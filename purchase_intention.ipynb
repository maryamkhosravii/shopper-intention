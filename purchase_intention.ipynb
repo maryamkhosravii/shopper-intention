{
 "cells": [
  {
   "cell_type": "markdown",
   "id": "2340082d",
   "metadata": {},
   "source": [
    "# Reading Data"
   ]
  },
  {
   "cell_type": "code",
   "execution_count": 1,
   "id": "90532c5f",
   "metadata": {},
   "outputs": [
    {
     "data": {
      "text/html": [
       "<div>\n",
       "<style scoped>\n",
       "    .dataframe tbody tr th:only-of-type {\n",
       "        vertical-align: middle;\n",
       "    }\n",
       "\n",
       "    .dataframe tbody tr th {\n",
       "        vertical-align: top;\n",
       "    }\n",
       "\n",
       "    .dataframe thead th {\n",
       "        text-align: right;\n",
       "    }\n",
       "</style>\n",
       "<table border=\"1\" class=\"dataframe\">\n",
       "  <thead>\n",
       "    <tr style=\"text-align: right;\">\n",
       "      <th></th>\n",
       "      <th>Administrative</th>\n",
       "      <th>Administrative_Duration</th>\n",
       "      <th>Informational</th>\n",
       "      <th>Informational_Duration</th>\n",
       "      <th>ProductRelated</th>\n",
       "      <th>ProductRelated_Duration</th>\n",
       "      <th>BounceRates</th>\n",
       "      <th>ExitRates</th>\n",
       "      <th>PageValues</th>\n",
       "      <th>SpecialDay</th>\n",
       "      <th>Month</th>\n",
       "      <th>OperatingSystems</th>\n",
       "      <th>Browser</th>\n",
       "      <th>Region</th>\n",
       "      <th>TrafficType</th>\n",
       "      <th>VisitorType</th>\n",
       "      <th>Weekend</th>\n",
       "      <th>Revenue</th>\n",
       "    </tr>\n",
       "  </thead>\n",
       "  <tbody>\n",
       "    <tr>\n",
       "      <th>0</th>\n",
       "      <td>0</td>\n",
       "      <td>0.0</td>\n",
       "      <td>0</td>\n",
       "      <td>0.0</td>\n",
       "      <td>1</td>\n",
       "      <td>0.000000</td>\n",
       "      <td>0.20</td>\n",
       "      <td>0.20</td>\n",
       "      <td>0.0</td>\n",
       "      <td>0.0</td>\n",
       "      <td>Feb</td>\n",
       "      <td>1</td>\n",
       "      <td>1</td>\n",
       "      <td>1</td>\n",
       "      <td>1</td>\n",
       "      <td>Returning_Visitor</td>\n",
       "      <td>False</td>\n",
       "      <td>False</td>\n",
       "    </tr>\n",
       "    <tr>\n",
       "      <th>1</th>\n",
       "      <td>0</td>\n",
       "      <td>0.0</td>\n",
       "      <td>0</td>\n",
       "      <td>0.0</td>\n",
       "      <td>2</td>\n",
       "      <td>64.000000</td>\n",
       "      <td>0.00</td>\n",
       "      <td>0.10</td>\n",
       "      <td>0.0</td>\n",
       "      <td>0.0</td>\n",
       "      <td>Feb</td>\n",
       "      <td>2</td>\n",
       "      <td>2</td>\n",
       "      <td>1</td>\n",
       "      <td>2</td>\n",
       "      <td>Returning_Visitor</td>\n",
       "      <td>False</td>\n",
       "      <td>False</td>\n",
       "    </tr>\n",
       "    <tr>\n",
       "      <th>2</th>\n",
       "      <td>0</td>\n",
       "      <td>0.0</td>\n",
       "      <td>0</td>\n",
       "      <td>0.0</td>\n",
       "      <td>1</td>\n",
       "      <td>0.000000</td>\n",
       "      <td>0.20</td>\n",
       "      <td>0.20</td>\n",
       "      <td>0.0</td>\n",
       "      <td>0.0</td>\n",
       "      <td>Feb</td>\n",
       "      <td>4</td>\n",
       "      <td>1</td>\n",
       "      <td>9</td>\n",
       "      <td>3</td>\n",
       "      <td>Returning_Visitor</td>\n",
       "      <td>False</td>\n",
       "      <td>False</td>\n",
       "    </tr>\n",
       "    <tr>\n",
       "      <th>3</th>\n",
       "      <td>0</td>\n",
       "      <td>0.0</td>\n",
       "      <td>0</td>\n",
       "      <td>0.0</td>\n",
       "      <td>2</td>\n",
       "      <td>2.666667</td>\n",
       "      <td>0.05</td>\n",
       "      <td>0.14</td>\n",
       "      <td>0.0</td>\n",
       "      <td>0.0</td>\n",
       "      <td>Feb</td>\n",
       "      <td>3</td>\n",
       "      <td>2</td>\n",
       "      <td>2</td>\n",
       "      <td>4</td>\n",
       "      <td>Returning_Visitor</td>\n",
       "      <td>False</td>\n",
       "      <td>False</td>\n",
       "    </tr>\n",
       "    <tr>\n",
       "      <th>4</th>\n",
       "      <td>0</td>\n",
       "      <td>0.0</td>\n",
       "      <td>0</td>\n",
       "      <td>0.0</td>\n",
       "      <td>10</td>\n",
       "      <td>627.500000</td>\n",
       "      <td>0.02</td>\n",
       "      <td>0.05</td>\n",
       "      <td>0.0</td>\n",
       "      <td>0.0</td>\n",
       "      <td>Feb</td>\n",
       "      <td>3</td>\n",
       "      <td>3</td>\n",
       "      <td>1</td>\n",
       "      <td>4</td>\n",
       "      <td>Returning_Visitor</td>\n",
       "      <td>True</td>\n",
       "      <td>False</td>\n",
       "    </tr>\n",
       "  </tbody>\n",
       "</table>\n",
       "</div>"
      ],
      "text/plain": [
       "   Administrative  Administrative_Duration  Informational  \\\n",
       "0               0                      0.0              0   \n",
       "1               0                      0.0              0   \n",
       "2               0                      0.0              0   \n",
       "3               0                      0.0              0   \n",
       "4               0                      0.0              0   \n",
       "\n",
       "   Informational_Duration  ProductRelated  ProductRelated_Duration  \\\n",
       "0                     0.0               1                 0.000000   \n",
       "1                     0.0               2                64.000000   \n",
       "2                     0.0               1                 0.000000   \n",
       "3                     0.0               2                 2.666667   \n",
       "4                     0.0              10               627.500000   \n",
       "\n",
       "   BounceRates  ExitRates  PageValues  SpecialDay Month  OperatingSystems  \\\n",
       "0         0.20       0.20         0.0         0.0   Feb                 1   \n",
       "1         0.00       0.10         0.0         0.0   Feb                 2   \n",
       "2         0.20       0.20         0.0         0.0   Feb                 4   \n",
       "3         0.05       0.14         0.0         0.0   Feb                 3   \n",
       "4         0.02       0.05         0.0         0.0   Feb                 3   \n",
       "\n",
       "   Browser  Region  TrafficType        VisitorType  Weekend  Revenue  \n",
       "0        1       1            1  Returning_Visitor    False    False  \n",
       "1        2       1            2  Returning_Visitor    False    False  \n",
       "2        1       9            3  Returning_Visitor    False    False  \n",
       "3        2       2            4  Returning_Visitor    False    False  \n",
       "4        3       1            4  Returning_Visitor     True    False  "
      ]
     },
     "execution_count": 1,
     "metadata": {},
     "output_type": "execute_result"
    }
   ],
   "source": [
    "import pandas as pd\n",
    "\n",
    "data = pd.read_csv (\"online_shoppers_intention.csv\")\n",
    "\n",
    "data.shape\n",
    "data.head(5)"
   ]
  },
  {
   "cell_type": "markdown",
   "id": "56eba0f9",
   "metadata": {},
   "source": [
    "# Preprocessing"
   ]
  },
  {
   "cell_type": "code",
   "execution_count": 2,
   "id": "d5b8aede",
   "metadata": {},
   "outputs": [],
   "source": [
    "data ['Weekend'] = data ['Weekend'].astype (int)\n",
    "data ['Revenue'] = data ['Revenue'].astype (int)"
   ]
  },
  {
   "cell_type": "code",
   "execution_count": 3,
   "id": "139708f2",
   "metadata": {},
   "outputs": [
    {
     "name": "stdout",
     "output_type": "stream",
     "text": [
      "Administrative             0.0\n",
      "Administrative_Duration    0.0\n",
      "Informational              0.0\n",
      "Informational_Duration     0.0\n",
      "ProductRelated             0.0\n",
      "ProductRelated_Duration    0.0\n",
      "BounceRates                0.0\n",
      "ExitRates                  0.0\n",
      "PageValues                 0.0\n",
      "SpecialDay                 0.0\n",
      "Month                      0.0\n",
      "OperatingSystems           0.0\n",
      "Browser                    0.0\n",
      "Region                     0.0\n",
      "TrafficType                0.0\n",
      "VisitorType                0.0\n",
      "Weekend                    0.0\n",
      "Revenue                    0.0\n",
      "dtype: float64\n"
     ]
    }
   ],
   "source": [
    "# Checking Missing Value\n",
    "\n",
    "print(data.isnull().mean()*100)"
   ]
  },
  {
   "cell_type": "code",
   "execution_count": 4,
   "id": "f4c0cd55",
   "metadata": {},
   "outputs": [
    {
     "name": "stdout",
     "output_type": "stream",
     "text": [
      "                         Administrative  Administrative_Duration  \\\n",
      "Administrative                      1.0                      NaN   \n",
      "Administrative_Duration             NaN                      1.0   \n",
      "Informational                       NaN                      NaN   \n",
      "Informational_Duration              NaN                      NaN   \n",
      "ProductRelated                      NaN                      NaN   \n",
      "ProductRelated_Duration             NaN                      NaN   \n",
      "BounceRates                         NaN                      NaN   \n",
      "ExitRates                           NaN                      NaN   \n",
      "PageValues                          NaN                      NaN   \n",
      "SpecialDay                          NaN                      NaN   \n",
      "OperatingSystems                    NaN                      NaN   \n",
      "Browser                             NaN                      NaN   \n",
      "Region                              NaN                      NaN   \n",
      "TrafficType                         NaN                      NaN   \n",
      "Weekend                             NaN                      NaN   \n",
      "Revenue                             NaN                      NaN   \n",
      "\n",
      "                         Informational  Informational_Duration  \\\n",
      "Administrative                     NaN                     NaN   \n",
      "Administrative_Duration            NaN                     NaN   \n",
      "Informational                      1.0                     NaN   \n",
      "Informational_Duration             NaN                     1.0   \n",
      "ProductRelated                     NaN                     NaN   \n",
      "ProductRelated_Duration            NaN                     NaN   \n",
      "BounceRates                        NaN                     NaN   \n",
      "ExitRates                          NaN                     NaN   \n",
      "PageValues                         NaN                     NaN   \n",
      "SpecialDay                         NaN                     NaN   \n",
      "OperatingSystems                   NaN                     NaN   \n",
      "Browser                            NaN                     NaN   \n",
      "Region                             NaN                     NaN   \n",
      "TrafficType                        NaN                     NaN   \n",
      "Weekend                            NaN                     NaN   \n",
      "Revenue                            NaN                     NaN   \n",
      "\n",
      "                         ProductRelated  ProductRelated_Duration  BounceRates  \\\n",
      "Administrative                      NaN                      NaN          NaN   \n",
      "Administrative_Duration             NaN                      NaN          NaN   \n",
      "Informational                       NaN                      NaN          NaN   \n",
      "Informational_Duration              NaN                      NaN          NaN   \n",
      "ProductRelated                 1.000000                 0.860927          NaN   \n",
      "ProductRelated_Duration        0.860927                 1.000000          NaN   \n",
      "BounceRates                         NaN                      NaN     1.000000   \n",
      "ExitRates                           NaN                      NaN     0.913004   \n",
      "PageValues                          NaN                      NaN          NaN   \n",
      "SpecialDay                          NaN                      NaN          NaN   \n",
      "OperatingSystems                    NaN                      NaN          NaN   \n",
      "Browser                             NaN                      NaN          NaN   \n",
      "Region                              NaN                      NaN          NaN   \n",
      "TrafficType                         NaN                      NaN          NaN   \n",
      "Weekend                             NaN                      NaN          NaN   \n",
      "Revenue                             NaN                      NaN          NaN   \n",
      "\n",
      "                         ExitRates  PageValues  SpecialDay  OperatingSystems  \\\n",
      "Administrative                 NaN         NaN         NaN               NaN   \n",
      "Administrative_Duration        NaN         NaN         NaN               NaN   \n",
      "Informational                  NaN         NaN         NaN               NaN   \n",
      "Informational_Duration         NaN         NaN         NaN               NaN   \n",
      "ProductRelated                 NaN         NaN         NaN               NaN   \n",
      "ProductRelated_Duration        NaN         NaN         NaN               NaN   \n",
      "BounceRates               0.913004         NaN         NaN               NaN   \n",
      "ExitRates                 1.000000         NaN         NaN               NaN   \n",
      "PageValues                     NaN         1.0         NaN               NaN   \n",
      "SpecialDay                     NaN         NaN         1.0               NaN   \n",
      "OperatingSystems               NaN         NaN         NaN               1.0   \n",
      "Browser                        NaN         NaN         NaN               NaN   \n",
      "Region                         NaN         NaN         NaN               NaN   \n",
      "TrafficType                    NaN         NaN         NaN               NaN   \n",
      "Weekend                        NaN         NaN         NaN               NaN   \n",
      "Revenue                        NaN         NaN         NaN               NaN   \n",
      "\n",
      "                         Browser  Region  TrafficType  Weekend  Revenue  \n",
      "Administrative               NaN     NaN          NaN      NaN      NaN  \n",
      "Administrative_Duration      NaN     NaN          NaN      NaN      NaN  \n",
      "Informational                NaN     NaN          NaN      NaN      NaN  \n",
      "Informational_Duration       NaN     NaN          NaN      NaN      NaN  \n",
      "ProductRelated               NaN     NaN          NaN      NaN      NaN  \n",
      "ProductRelated_Duration      NaN     NaN          NaN      NaN      NaN  \n",
      "BounceRates                  NaN     NaN          NaN      NaN      NaN  \n",
      "ExitRates                    NaN     NaN          NaN      NaN      NaN  \n",
      "PageValues                   NaN     NaN          NaN      NaN      NaN  \n",
      "SpecialDay                   NaN     NaN          NaN      NaN      NaN  \n",
      "OperatingSystems             NaN     NaN          NaN      NaN      NaN  \n",
      "Browser                      1.0     NaN          NaN      NaN      NaN  \n",
      "Region                       NaN     1.0          NaN      NaN      NaN  \n",
      "TrafficType                  NaN     NaN          1.0      NaN      NaN  \n",
      "Weekend                      NaN     NaN          NaN      1.0      NaN  \n",
      "Revenue                      NaN     NaN          NaN      NaN      1.0  \n"
     ]
    }
   ],
   "source": [
    "# Checking Multicollinearity Among Features\n",
    "\n",
    "correlation_matrix = data.corr(numeric_only=True)\n",
    "high_correlation = correlation_matrix[correlation_matrix.abs() > 0.7]\n",
    "print (high_correlation)\n",
    "\n",
    "# the high correlation between ProductRelated and ProductRelated_Duration \n",
    "# the high correlation between ExitRates and BounceRates"
   ]
  },
  {
   "cell_type": "code",
   "execution_count": 5,
   "id": "43b037fc",
   "metadata": {},
   "outputs": [
    {
     "data": {
      "text/plain": [
       "Revenue                    1.000000\n",
       "PageValues                 0.492569\n",
       "ProductRelated             0.158538\n",
       "ProductRelated_Duration    0.152373\n",
       "Administrative             0.138917\n",
       "Informational              0.095200\n",
       "Administrative_Duration    0.093587\n",
       "Informational_Duration     0.070345\n",
       "Weekend                    0.029295\n",
       "Browser                    0.023984\n",
       "TrafficType               -0.005113\n",
       "Region                    -0.011595\n",
       "OperatingSystems          -0.014668\n",
       "SpecialDay                -0.082305\n",
       "BounceRates               -0.150673\n",
       "ExitRates                 -0.207071\n",
       "Name: Revenue, dtype: float64"
      ]
     },
     "execution_count": 5,
     "metadata": {},
     "output_type": "execute_result"
    }
   ],
   "source": [
    "# Checking Multicollinearity between Features and Target\n",
    "\n",
    "correlation = data.corr(numeric_only=True)\n",
    "correlation['Revenue'].sort_values(ascending=False)"
   ]
  },
  {
   "cell_type": "code",
   "execution_count": 6,
   "id": "c8d51411",
   "metadata": {},
   "outputs": [],
   "source": [
    "data = data.drop (['Weekend','Browser','TrafficType','Region','OperatingSystems','ExitRates', 'ProductRelated'], axis=1)\n",
    "\n"
   ]
  },
  {
   "cell_type": "code",
   "execution_count": 7,
   "id": "aa254b85",
   "metadata": {},
   "outputs": [
    {
     "data": {
      "image/png": "[encoded data removed]",
      "text/plain": [
       "<Figure size 1200x600 with 1 Axes>"
      ]
     },
     "metadata": {},
     "output_type": "display_data"
    }
   ],
   "source": [
    "# Checking Outliers\n",
    "\n",
    "import seaborn as sns\n",
    "import matplotlib.pyplot as plt\n",
    "\n",
    "numeric_data = data.select_dtypes (include= 'number')\n",
    "plt.figure (figsize= (12,6))\n",
    "sns.boxplot (data= numeric_data)\n",
    "\n",
    "\n",
    "plt.xticks (rotation = 45)\n",
    "plt.title (\"Boxplot Of All Numeric Data\")\n",
    "plt.show()"
   ]
  },
  {
   "cell_type": "code",
   "execution_count": 8,
   "id": "9ec1e185",
   "metadata": {},
   "outputs": [],
   "source": [
    "from sklearn.model_selection import train_test_split\n",
    "\n",
    "X = data.drop ('Revenue', axis=1)\n",
    "y = data ['Revenue']\n",
    "\n",
    "x_temp, x_test, y_temp, y_test = train_test_split (X, y, test_size=0.2, random_state=42, stratify=y)\n",
    "\n",
    "x_train, X_val, y_train, y_val = train_test_split (x_temp, y_temp, test_size=0.2, random_state=42)"
   ]
  },
  {
   "cell_type": "code",
   "execution_count": 9,
   "id": "bd51e6be",
   "metadata": {},
   "outputs": [],
   "source": [
    "# Treating Outliers (Winsorizing)\n",
    "\n",
    "from scipy.stats.mstats import winsorize\n",
    "\n",
    "x_train['ProductRelated_Duration'] = winsorize (x_train['ProductRelated_Duration'], limits=[0.05,0.05])"
   ]
  },
  {
   "cell_type": "code",
   "execution_count": 10,
   "id": "f2e5ac90",
   "metadata": {},
   "outputs": [
    {
     "name": "stdout",
     "output_type": "stream",
     "text": [
      "Revenue\n",
      "0    0.845255\n",
      "1    0.154745\n",
      "Name: proportion, dtype: float64\n"
     ]
    }
   ],
   "source": [
    "# Checking Imbalanced data\n",
    "\n",
    "print(data['Revenue'].value_counts(normalize=True))"
   ]
  },
  {
   "cell_type": "code",
   "execution_count": 11,
   "id": "2cde02dc",
   "metadata": {},
   "outputs": [],
   "source": [
    "from sklearn.compose import ColumnTransformer\n",
    "from sklearn.preprocessing import OneHotEncoder, MinMaxScaler\n",
    "from sklearn.pipeline import Pipeline\n",
    "\n",
    "\n",
    "numeric_cols = X.select_dtypes (include= 'number').columns.to_list()\n",
    "categorical_cols = ['Month', 'VisitorType']\n",
    "\n",
    "\n",
    "num_pipe = Pipeline ([\n",
    "    ('scaling', MinMaxScaler())\n",
    "])\n",
    "\n",
    "cat_pipe = Pipeline ([\n",
    "    ('encoding', OneHotEncoder(handle_unknown='ignore'))\n",
    "])\n",
    "\n",
    "\n",
    "preprocessor = ColumnTransformer ([\n",
    "    ('num', num_pipe, numeric_cols),\n",
    "    ('cat', cat_pipe, categorical_cols)\n",
    "])\n"
   ]
  },
  {
   "cell_type": "code",
   "execution_count": 12,
   "id": "14f137cc",
   "metadata": {},
   "outputs": [],
   "source": [
    "x_train_processed = preprocessor.fit_transform (x_train)"
   ]
  },
  {
   "cell_type": "code",
   "execution_count": 13,
   "id": "b71cb093",
   "metadata": {},
   "outputs": [
    {
     "data": {
      "text/plain": [
       "['preprocessor.pkl']"
      ]
     },
     "execution_count": 13,
     "metadata": {},
     "output_type": "execute_result"
    }
   ],
   "source": [
    "import joblib\n",
    "\n",
    "joblib.dump(preprocessor, \"preprocessor.pkl\")"
   ]
  },
  {
   "cell_type": "code",
   "execution_count": null,
   "id": "b2f4cfb0",
   "metadata": {},
   "outputs": [],
   "source": [
    "# Treating Imbalanced data\n",
    "\n",
    "from imblearn.over_sampling import SMOTE\n",
    "\n",
    "sm = SMOTE (random_state=42)\n",
    "x_train_res, y_train_res = sm.fit_resample (x_train_processed, y_train)\n"
   ]
  },
  {
   "cell_type": "code",
   "execution_count": 15,
   "id": "cd96d1c9",
   "metadata": {},
   "outputs": [
    {
     "name": "stderr",
     "output_type": "stream",
     "text": [
      "c:\\Users\\ASUS\\Desktop\\purchasing intention\\venv\\Lib\\site-packages\\keras\\src\\layers\\core\\dense.py:92: UserWarning: Do not pass an `input_shape`/`input_dim` argument to a layer. When using Sequential models, prefer using an `Input(shape)` object as the first layer in the model instead.\n",
      "  super().__init__(activity_regularizer=activity_regularizer, **kwargs)\n"
     ]
    }
   ],
   "source": [
    "import tensorflow as tf\n",
    "import keras\n",
    "from keras import regularizers\n",
    "from keras.models import Sequential\n",
    "from keras.layers import Dense\n",
    "\n",
    "input_dim = x_train_res.shape[1]\n",
    "\n",
    "model = Sequential([\n",
    "    Dense (128, activation='relu', input_shape = (input_dim,), kernel_regularizer=regularizers.l2(0.01)),\n",
    "    Dense (64, activation='relu', kernel_regularizer=regularizers.l2(0.01)),\n",
    "    Dense (1, activation='sigmoid')\n",
    "])\n",
    "\n",
    "\n"
   ]
  },
  {
   "cell_type": "code",
   "execution_count": 16,
   "id": "83b8b532",
   "metadata": {},
   "outputs": [],
   "source": [
    "from keras.optimizers import Adam\n",
    "from keras import metrics\n",
    "\n",
    "optimizer = Adam (learning_rate=0.001)\n",
    "model.compile (\n",
    "    optimizer=optimizer,\n",
    "    loss='binary_crossentropy',\n",
    "    metrics=['accuracy',\n",
    "             metrics.Precision(name='precision'),\n",
    "             metrics.Recall(name='recall'),\n",
    "             metrics.AUC(name='auc')\n",
    "    ]\n",
    ")"
   ]
  },
  {
   "cell_type": "code",
   "execution_count": 17,
   "id": "00f53a3c",
   "metadata": {},
   "outputs": [],
   "source": [
    "from keras.callbacks import EarlyStopping\n",
    "\n",
    "early_stop = EarlyStopping (\n",
    "    monitor= 'val_loss',\n",
    "    patience= 10,\n",
    "    restore_best_weights=True\n",
    ")"
   ]
  },
  {
   "cell_type": "code",
   "execution_count": 18,
   "id": "6f04b166",
   "metadata": {},
   "outputs": [],
   "source": [
    "from scipy.stats.mstats import winsorize\n",
    "\n",
    "X_val ['ProductRelated_Duration'] = winsorize (X_val['ProductRelated_Duration'], limits=(0.05,0.05))\n",
    "\n",
    "X_val_processed = preprocessor.transform (X_val)"
   ]
  },
  {
   "cell_type": "code",
   "execution_count": 19,
   "id": "d6dc6c79",
   "metadata": {},
   "outputs": [
    {
     "name": "stdout",
     "output_type": "stream",
     "text": [
      "Epoch 1/100\n",
      "\u001b[1m417/417\u001b[0m \u001b[32m━━━━━━━━━━━━━━━━━━━━\u001b[0m\u001b[37m\u001b[0m \u001b[1m12s\u001b[0m 7ms/step - accuracy: 0.6788 - auc: 0.7614 - loss: 0.8135 - precision: 0.6730 - recall: 0.6955 - val_accuracy: 0.7658 - val_auc: 0.7941 - val_loss: 0.5519 - val_precision: 0.3361 - val_recall: 0.5430\n",
      "Epoch 2/100\n",
      "\u001b[1m417/417\u001b[0m \u001b[32m━━━━━━━━━━━━━━━━━━━━\u001b[0m\u001b[37m\u001b[0m \u001b[1m2s\u001b[0m 4ms/step - accuracy: 0.7586 - auc: 0.8430 - loss: 0.5841 - precision: 0.7572 - recall: 0.7614 - val_accuracy: 0.7532 - val_auc: 0.8459 - val_loss: 0.5983 - val_precision: 0.3579 - val_recall: 0.7715\n",
      "Epoch 3/100\n",
      "\u001b[1m417/417\u001b[0m \u001b[32m━━━━━━━━━━━━━━━━━━━━\u001b[0m\u001b[37m\u001b[0m \u001b[1m2s\u001b[0m 4ms/step - accuracy: 0.7869 - auc: 0.8718 - loss: 0.5532 - precision: 0.7890 - recall: 0.7834 - val_accuracy: 0.7937 - val_auc: 0.8590 - val_loss: 0.5351 - val_precision: 0.4000 - val_recall: 0.6954\n",
      "Epoch 4/100\n",
      "\u001b[1m417/417\u001b[0m \u001b[32m━━━━━━━━━━━━━━━━━━━━\u001b[0m\u001b[37m\u001b[0m \u001b[1m3s\u001b[0m 4ms/step - accuracy: 0.7980 - auc: 0.8814 - loss: 0.5354 - precision: 0.8008 - recall: 0.7935 - val_accuracy: 0.7912 - val_auc: 0.8656 - val_loss: 0.5551 - val_precision: 0.4021 - val_recall: 0.7483\n",
      "Epoch 5/100\n",
      "\u001b[1m417/417\u001b[0m \u001b[32m━━━━━━━━━━━━━━━━━━━━\u001b[0m\u001b[37m\u001b[0m \u001b[1m2s\u001b[0m 4ms/step - accuracy: 0.8085 - auc: 0.8917 - loss: 0.5199 - precision: 0.8226 - recall: 0.7866 - val_accuracy: 0.7663 - val_auc: 0.8721 - val_loss: 0.5726 - val_precision: 0.3752 - val_recall: 0.7914\n",
      "Epoch 6/100\n",
      "\u001b[1m417/417\u001b[0m \u001b[32m━━━━━━━━━━━━━━━━━━━━\u001b[0m\u001b[37m\u001b[0m \u001b[1m3s\u001b[0m 4ms/step - accuracy: 0.8191 - auc: 0.8980 - loss: 0.5071 - precision: 0.8276 - recall: 0.8062 - val_accuracy: 0.7674 - val_auc: 0.8815 - val_loss: 0.5908 - val_precision: 0.3812 - val_recall: 0.8344\n",
      "Epoch 7/100\n",
      "\u001b[1m417/417\u001b[0m \u001b[32m━━━━━━━━━━━━━━━━━━━━\u001b[0m\u001b[37m\u001b[0m \u001b[1m2s\u001b[0m 4ms/step - accuracy: 0.8241 - auc: 0.9024 - loss: 0.4972 - precision: 0.8321 - recall: 0.8119 - val_accuracy: 0.8545 - val_auc: 0.8847 - val_loss: 0.4607 - val_precision: 0.5190 - val_recall: 0.6788\n",
      "Epoch 8/100\n",
      "\u001b[1m417/417\u001b[0m \u001b[32m━━━━━━━━━━━━━━━━━━━━\u001b[0m\u001b[37m\u001b[0m \u001b[1m2s\u001b[0m 4ms/step - accuracy: 0.8244 - auc: 0.9026 - loss: 0.4922 - precision: 0.8363 - recall: 0.8068 - val_accuracy: 0.8125 - val_auc: 0.8907 - val_loss: 0.5486 - val_precision: 0.4391 - val_recall: 0.8113\n",
      "Epoch 9/100\n",
      "\u001b[1m417/417\u001b[0m \u001b[32m━━━━━━━━━━━━━━━━━━━━\u001b[0m\u001b[37m\u001b[0m \u001b[1m2s\u001b[0m 4ms/step - accuracy: 0.8268 - auc: 0.9052 - loss: 0.4862 - precision: 0.8382 - recall: 0.8100 - val_accuracy: 0.8013 - val_auc: 0.8816 - val_loss: 0.5315 - val_precision: 0.4194 - val_recall: 0.7748\n",
      "Epoch 10/100\n",
      "\u001b[1m417/417\u001b[0m \u001b[32m━━━━━━━━━━━━━━━━━━━━\u001b[0m\u001b[37m\u001b[0m \u001b[1m2s\u001b[0m 4ms/step - accuracy: 0.8290 - auc: 0.9099 - loss: 0.4777 - precision: 0.8395 - recall: 0.8136 - val_accuracy: 0.8505 - val_auc: 0.8850 - val_loss: 0.4558 - val_precision: 0.5083 - val_recall: 0.7086\n",
      "Epoch 11/100\n",
      "\u001b[1m417/417\u001b[0m \u001b[32m━━━━━━━━━━━━━━━━━━━━\u001b[0m\u001b[37m\u001b[0m \u001b[1m2s\u001b[0m 4ms/step - accuracy: 0.8334 - auc: 0.9122 - loss: 0.4714 - precision: 0.8463 - recall: 0.8149 - val_accuracy: 0.7091 - val_auc: 0.8861 - val_loss: 0.6566 - val_precision: 0.3325 - val_recall: 0.8940\n",
      "Epoch 12/100\n",
      "\u001b[1m417/417\u001b[0m \u001b[32m━━━━━━━━━━━━━━━━━━━━\u001b[0m\u001b[37m\u001b[0m \u001b[1m2s\u001b[0m 4ms/step - accuracy: 0.8329 - auc: 0.9116 - loss: 0.4695 - precision: 0.8471 - recall: 0.8125 - val_accuracy: 0.8464 - val_auc: 0.8963 - val_loss: 0.4771 - val_precision: 0.4989 - val_recall: 0.7550\n",
      "Epoch 13/100\n",
      "\u001b[1m417/417\u001b[0m \u001b[32m━━━━━━━━━━━━━━━━━━━━\u001b[0m\u001b[37m\u001b[0m \u001b[1m2s\u001b[0m 4ms/step - accuracy: 0.8376 - auc: 0.9143 - loss: 0.4644 - precision: 0.8480 - recall: 0.8226 - val_accuracy: 0.8545 - val_auc: 0.8934 - val_loss: 0.4509 - val_precision: 0.5176 - val_recall: 0.7318\n",
      "Epoch 14/100\n",
      "\u001b[1m417/417\u001b[0m \u001b[32m━━━━━━━━━━━━━━━━━━━━\u001b[0m\u001b[37m\u001b[0m \u001b[1m2s\u001b[0m 4ms/step - accuracy: 0.8385 - auc: 0.9151 - loss: 0.4607 - precision: 0.8510 - recall: 0.8208 - val_accuracy: 0.8530 - val_auc: 0.8959 - val_loss: 0.4535 - val_precision: 0.5140 - val_recall: 0.7285\n",
      "Epoch 15/100\n",
      "\u001b[1m417/417\u001b[0m \u001b[32m━━━━━━━━━━━━━━━━━━━━\u001b[0m\u001b[37m\u001b[0m \u001b[1m2s\u001b[0m 4ms/step - accuracy: 0.8388 - auc: 0.9162 - loss: 0.4578 - precision: 0.8499 - recall: 0.8229 - val_accuracy: 0.8657 - val_auc: 0.8985 - val_loss: 0.4179 - val_precision: 0.5486 - val_recall: 0.6921\n",
      "Epoch 16/100\n",
      "\u001b[1m417/417\u001b[0m \u001b[32m━━━━━━━━━━━━━━━━━━━━\u001b[0m\u001b[37m\u001b[0m \u001b[1m2s\u001b[0m 4ms/step - accuracy: 0.8355 - auc: 0.9162 - loss: 0.4566 - precision: 0.8464 - recall: 0.8197 - val_accuracy: 0.8545 - val_auc: 0.8945 - val_loss: 0.4291 - val_precision: 0.5182 - val_recall: 0.7053\n",
      "Epoch 17/100\n",
      "\u001b[1m417/417\u001b[0m \u001b[32m━━━━━━━━━━━━━━━━━━━━\u001b[0m\u001b[37m\u001b[0m \u001b[1m2s\u001b[0m 4ms/step - accuracy: 0.8379 - auc: 0.9167 - loss: 0.4537 - precision: 0.8495 - recall: 0.8212 - val_accuracy: 0.8525 - val_auc: 0.8977 - val_loss: 0.4348 - val_precision: 0.5132 - val_recall: 0.7086\n",
      "Epoch 18/100\n",
      "\u001b[1m417/417\u001b[0m \u001b[32m━━━━━━━━━━━━━━━━━━━━\u001b[0m\u001b[37m\u001b[0m \u001b[1m2s\u001b[0m 4ms/step - accuracy: 0.8428 - auc: 0.9194 - loss: 0.4496 - precision: 0.8543 - recall: 0.8266 - val_accuracy: 0.8231 - val_auc: 0.8941 - val_loss: 0.5061 - val_precision: 0.4556 - val_recall: 0.7980\n",
      "Epoch 19/100\n",
      "\u001b[1m417/417\u001b[0m \u001b[32m━━━━━━━━━━━━━━━━━━━━\u001b[0m\u001b[37m\u001b[0m \u001b[1m2s\u001b[0m 4ms/step - accuracy: 0.8434 - auc: 0.9202 - loss: 0.4464 - precision: 0.8536 - recall: 0.8290 - val_accuracy: 0.8267 - val_auc: 0.8944 - val_loss: 0.4864 - val_precision: 0.4605 - val_recall: 0.7715\n",
      "Epoch 20/100\n",
      "\u001b[1m417/417\u001b[0m \u001b[32m━━━━━━━━━━━━━━━━━━━━\u001b[0m\u001b[37m\u001b[0m \u001b[1m2s\u001b[0m 4ms/step - accuracy: 0.8451 - auc: 0.9204 - loss: 0.4449 - precision: 0.8576 - recall: 0.8275 - val_accuracy: 0.7866 - val_auc: 0.8947 - val_loss: 0.5569 - val_precision: 0.4048 - val_recall: 0.8377\n",
      "Epoch 21/100\n",
      "\u001b[1m417/417\u001b[0m \u001b[32m━━━━━━━━━━━━━━━━━━━━\u001b[0m\u001b[37m\u001b[0m \u001b[1m2s\u001b[0m 4ms/step - accuracy: 0.8463 - auc: 0.9226 - loss: 0.4406 - precision: 0.8573 - recall: 0.8308 - val_accuracy: 0.8571 - val_auc: 0.8965 - val_loss: 0.4150 - val_precision: 0.5253 - val_recall: 0.6887\n",
      "Epoch 22/100\n",
      "\u001b[1m417/417\u001b[0m \u001b[32m━━━━━━━━━━━━━━━━━━━━\u001b[0m\u001b[37m\u001b[0m \u001b[1m2s\u001b[0m 4ms/step - accuracy: 0.8421 - auc: 0.9209 - loss: 0.4414 - precision: 0.8511 - recall: 0.8293 - val_accuracy: 0.8784 - val_auc: 0.9009 - val_loss: 0.3798 - val_precision: 0.5917 - val_recall: 0.6623\n",
      "Epoch 23/100\n",
      "\u001b[1m417/417\u001b[0m \u001b[32m━━━━━━━━━━━━━━━━━━━━\u001b[0m\u001b[37m\u001b[0m \u001b[1m2s\u001b[0m 4ms/step - accuracy: 0.8453 - auc: 0.9234 - loss: 0.4365 - precision: 0.8578 - recall: 0.8278 - val_accuracy: 0.8444 - val_auc: 0.8991 - val_loss: 0.4624 - val_precision: 0.4948 - val_recall: 0.7815\n",
      "Epoch 24/100\n",
      "\u001b[1m417/417\u001b[0m \u001b[32m━━━━━━━━━━━━━━━━━━━━\u001b[0m\u001b[37m\u001b[0m \u001b[1m2s\u001b[0m 4ms/step - accuracy: 0.8472 - auc: 0.9231 - loss: 0.4358 - precision: 0.8582 - recall: 0.8317 - val_accuracy: 0.8530 - val_auc: 0.8999 - val_loss: 0.4519 - val_precision: 0.5133 - val_recall: 0.7682\n",
      "Epoch 25/100\n",
      "\u001b[1m417/417\u001b[0m \u001b[32m━━━━━━━━━━━━━━━━━━━━\u001b[0m\u001b[37m\u001b[0m \u001b[1m2s\u001b[0m 4ms/step - accuracy: 0.8492 - auc: 0.9234 - loss: 0.4347 - precision: 0.8591 - recall: 0.8353 - val_accuracy: 0.8378 - val_auc: 0.8965 - val_loss: 0.4794 - val_precision: 0.4818 - val_recall: 0.7881\n",
      "Epoch 26/100\n",
      "\u001b[1m417/417\u001b[0m \u001b[32m━━━━━━━━━━━━━━━━━━━━\u001b[0m\u001b[37m\u001b[0m \u001b[1m2s\u001b[0m 4ms/step - accuracy: 0.8490 - auc: 0.9249 - loss: 0.4316 - precision: 0.8611 - recall: 0.8323 - val_accuracy: 0.8363 - val_auc: 0.8985 - val_loss: 0.4506 - val_precision: 0.4780 - val_recall: 0.7550\n",
      "Epoch 27/100\n",
      "\u001b[1m417/417\u001b[0m \u001b[32m━━━━━━━━━━━━━━━━━━━━\u001b[0m\u001b[37m\u001b[0m \u001b[1m2s\u001b[0m 4ms/step - accuracy: 0.8507 - auc: 0.9260 - loss: 0.4296 - precision: 0.8620 - recall: 0.8350 - val_accuracy: 0.8566 - val_auc: 0.8978 - val_loss: 0.4188 - val_precision: 0.5232 - val_recall: 0.7086\n",
      "Epoch 28/100\n",
      "\u001b[1m417/417\u001b[0m \u001b[32m━━━━━━━━━━━━━━━━━━━━\u001b[0m\u001b[37m\u001b[0m \u001b[1m2s\u001b[0m 4ms/step - accuracy: 0.8476 - auc: 0.9257 - loss: 0.4278 - precision: 0.8598 - recall: 0.8307 - val_accuracy: 0.8317 - val_auc: 0.8963 - val_loss: 0.4805 - val_precision: 0.4707 - val_recall: 0.7980\n",
      "Epoch 29/100\n",
      "\u001b[1m417/417\u001b[0m \u001b[32m━━━━━━━━━━━━━━━━━━━━\u001b[0m\u001b[37m\u001b[0m \u001b[1m2s\u001b[0m 4ms/step - accuracy: 0.8501 - auc: 0.9263 - loss: 0.4266 - precision: 0.8631 - recall: 0.8322 - val_accuracy: 0.8297 - val_auc: 0.8999 - val_loss: 0.4885 - val_precision: 0.4672 - val_recall: 0.8013\n",
      "Epoch 30/100\n",
      "\u001b[1m417/417\u001b[0m \u001b[32m━━━━━━━━━━━━━━━━━━━━\u001b[0m\u001b[37m\u001b[0m \u001b[1m2s\u001b[0m 4ms/step - accuracy: 0.8515 - auc: 0.9266 - loss: 0.4247 - precision: 0.8608 - recall: 0.8386 - val_accuracy: 0.8327 - val_auc: 0.8961 - val_loss: 0.4922 - val_precision: 0.4729 - val_recall: 0.8079\n",
      "Epoch 31/100\n",
      "\u001b[1m417/417\u001b[0m \u001b[32m━━━━━━━━━━━━━━━━━━━━\u001b[0m\u001b[37m\u001b[0m \u001b[1m2s\u001b[0m 4ms/step - accuracy: 0.8512 - auc: 0.9263 - loss: 0.4248 - precision: 0.8618 - recall: 0.8365 - val_accuracy: 0.8616 - val_auc: 0.9031 - val_loss: 0.3928 - val_precision: 0.5367 - val_recall: 0.7020\n",
      "Epoch 32/100\n",
      "\u001b[1m417/417\u001b[0m \u001b[32m━━━━━━━━━━━━━━━━━━━━\u001b[0m\u001b[37m\u001b[0m \u001b[1m2s\u001b[0m 4ms/step - accuracy: 0.8511 - auc: 0.9253 - loss: 0.4255 - precision: 0.8602 - recall: 0.8383 - val_accuracy: 0.8282 - val_auc: 0.9016 - val_loss: 0.4765 - val_precision: 0.4642 - val_recall: 0.7947\n"
     ]
    },
    {
     "data": {
      "text/plain": [
       "<keras.src.callbacks.history.History at 0x1a13a161d90>"
      ]
     },
     "execution_count": 19,
     "metadata": {},
     "output_type": "execute_result"
    }
   ],
   "source": [
    "model.fit(\n",
    "    x_train_res, y_train_res,\n",
    "    validation_data= (X_val_processed, y_val),\n",
    "    epochs= 100,\n",
    "    shuffle= True,\n",
    "    callbacks= [early_stop],\n",
    "    batch_size=32\n",
    ")"
   ]
  },
  {
   "cell_type": "code",
   "execution_count": 20,
   "id": "b93d20ff",
   "metadata": {},
   "outputs": [],
   "source": [
    "x_test ['ProductRelated_Duration'] = winsorize (x_test ['ProductRelated_Duration'], limits=(0.05, 0.05))\n",
    "\n",
    "x_test_processed = preprocessor.transform (x_test)"
   ]
  },
  {
   "cell_type": "code",
   "execution_count": 21,
   "id": "416f467c",
   "metadata": {},
   "outputs": [
    {
     "name": "stdout",
     "output_type": "stream",
     "text": [
      "\u001b[1m78/78\u001b[0m \u001b[32m━━━━━━━━━━━━━━━━━━━━\u001b[0m\u001b[37m\u001b[0m \u001b[1m1s\u001b[0m 6ms/step - accuracy: 0.8808 - auc: 0.8895 - loss: 0.3881 - precision: 0.6140 - recall: 0.6204\n"
     ]
    }
   ],
   "source": [
    "results = model.evaluate (\n",
    "    x_test_processed, y_test,\n",
    "    batch_size=32,\n",
    "    verbose=1\n",
    ")"
   ]
  },
  {
   "cell_type": "code",
   "execution_count": 22,
   "id": "2b6656d7",
   "metadata": {},
   "outputs": [
    {
     "name": "stdout",
     "output_type": "stream",
     "text": [
      "\u001b[1m78/78\u001b[0m \u001b[32m━━━━━━━━━━━━━━━━━━━━\u001b[0m\u001b[37m\u001b[0m \u001b[1m1s\u001b[0m 4ms/step\n"
     ]
    }
   ],
   "source": [
    "y_pred_prob = model.predict (x_test_processed)\n",
    "threshold = 0.5\n",
    "y_pred = (y_pred_prob > threshold).astype (int)"
   ]
  },
  {
   "cell_type": "code",
   "execution_count": 23,
   "id": "a65843e7",
   "metadata": {},
   "outputs": [
    {
     "name": "stdout",
     "output_type": "stream",
     "text": [
      "              precision    recall  f1-score   support\n",
      "\n",
      "           0       0.93      0.93      0.93      2084\n",
      "           1       0.61      0.62      0.62       382\n",
      "\n",
      "    accuracy                           0.88      2466\n",
      "   macro avg       0.77      0.77      0.77      2466\n",
      "weighted avg       0.88      0.88      0.88      2466\n",
      "\n",
      "ROC-AUC: 0.8895254042266684\n"
     ]
    }
   ],
   "source": [
    "from sklearn.metrics import classification_report, roc_auc_score\n",
    "\n",
    "print (classification_report(y_test, y_pred))\n",
    "print (\"ROC-AUC:\", roc_auc_score(y_test, y_pred_prob))"
   ]
  },
  {
   "cell_type": "code",
   "execution_count": 24,
   "id": "bbef3790",
   "metadata": {},
   "outputs": [
    {
     "name": "stderr",
     "output_type": "stream",
     "text": [
      "WARNING:absl:You are saving your model as an HDF5 file via `model.save()` or `keras.saving.save_model(model)`. This file format is considered legacy. We recommend using instead the native Keras format, e.g. `model.save('my_model.keras')` or `keras.saving.save_model(model, 'my_model.keras')`. \n"
     ]
    }
   ],
   "source": [
    "model.save (\"my_model.h5\")"
   ]
  }
 ],
 "metadata": {
  "kernelspec": {
   "display_name": "python(newenv)",
   "language": "python",
   "name": "newenv"
  },
  "language_info": {
   "codemirror_mode": {
    "name": "ipython",
    "version": 3
   },
   "file_extension": ".py",
   "mimetype": "text/x-python",
   "name": "python",
   "nbconvert_exporter": "python",
   "pygments_lexer": "ipython3",
   "version": "3.11.9"
  }
 },
 "nbformat": 4,
 "nbformat_minor": 5
}
